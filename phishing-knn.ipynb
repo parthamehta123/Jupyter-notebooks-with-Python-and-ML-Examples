{
 "cells": [
  {
   "cell_type": "markdown",
   "metadata": {},
   "source": [
    "# K Nearest Neighbour (Phishing Dataset)"
   ]
  },
  {
   "cell_type": "code",
   "execution_count": null,
   "metadata": {
    "collapsed": true
   },
   "outputs": [],
   "source": [
    "#CellStrat - Load the phishing website dataset (this dataset has 11000+ data samples). Each sample has 30 website\n",
    "#parameters and then a class label identifying it as a phishing website or not (1 or -1).\n",
    "\n",
    "#The task is to train a KNN classifier which can detect phishing websites.\n",
    "\n",
    "#Use 70% data for training and 30% for testing.\n",
    "\n",
    "#Train the model using training data and then use it to predict the test data.\n",
    "\n",
    "#Then print the count of misclassified samples in the test data prediction as well as the accuracy score of this prediction."
   ]
  },
  {
   "cell_type": "markdown",
   "metadata": {},
   "source": [
    "### Import modules"
   ]
  },
  {
   "cell_type": "code",
   "execution_count": 1,
   "metadata": {
    "collapsed": true
   },
   "outputs": [],
   "source": [
    "from sklearn import datasets\n",
    "import numpy as np\n",
    "from sklearn.model_selection import train_test_split\n",
    "from sklearn.preprocessing import StandardScaler\n",
    "from sklearn.neighbors import KNeighborsClassifier\n",
    "from sklearn.metrics import accuracy_score"
   ]
  },
  {
   "cell_type": "markdown",
   "metadata": {},
   "source": [
    "### Define Input and Output"
   ]
  },
  {
   "cell_type": "code",
   "execution_count": 2,
   "metadata": {
    "collapsed": true
   },
   "outputs": [],
   "source": [
    "phishing = np.loadtxt('./data/phishing.txt', delimiter=',')\n",
    "\n",
    "#attribute having_IP_Address  { -1,1 }\n",
    "#attribute URL_Length   { 1,0,-1 }\n",
    "#attribute Shortining_Service { 1,-1 }\n",
    "#attribute having_At_Symbol   { 1,-1 }\n",
    "#attribute double_slash_redirecting { -1,1 }\n",
    "#attribute Prefix_Suffix  { -1,1 }\n",
    "#attribute having_Sub_Domain  { -1,0,1 }\n",
    "#attribute SSLfinal_State  { -1,1,0 }\n",
    "#attribute Domain_registeration_length { -1,1 }\n",
    "#attribute Favicon { 1,-1 }\n",
    "#attribute port { 1,-1 }\n",
    "#attribute HTTPS_token { -1,1 }\n",
    "#attribute Request_URL  { 1,-1 }\n",
    "#attribute URL_of_Anchor { -1,0,1 }\n",
    "#attribute Links_in_tags { 1,-1,0 }\n",
    "#attribute SFH  { -1,1,0 }\n",
    "#attribute Submitting_to_email { -1,1 }\n",
    "#attribute Abnormal_URL { -1,1 }\n",
    "#attribute Redirect  { 0,1 }\n",
    "#attribute on_mouseover  { 1,-1 }\n",
    "#attribute RightClick  { 1,-1 }\n",
    "#attribute popUpWidnow  { 1,-1 }\n",
    "#attribute Iframe { 1,-1 }\n",
    "#attribute age_of_domain  { -1,1 }\n",
    "#attribute DNSRecord   { -1,1 }\n",
    "#attribute web_traffic  { -1,0,1 }\n",
    "#attribute Page_Rank { -1,1 }\n",
    "#attribute Google_Index { 1,-1 }\n",
    "#attribute Links_pointing_to_page { 1,0,-1 }\n",
    "#attribute Statistical_report { -1,1 }\n",
    "#attribute Result  { -1,1 }"
   ]
  },
  {
   "cell_type": "markdown",
   "metadata": {},
   "source": [
    "### Create X and Y data"
   ]
  },
  {
   "cell_type": "code",
   "execution_count": 3,
   "metadata": {},
   "outputs": [
    {
     "name": "stdout",
     "output_type": "stream",
     "text": [
      "Class labels: [-1.  1.]\n"
     ]
    }
   ],
   "source": [
    "#X = phishing[:, [1, 5]]\n",
    "X = phishing[:, 0:30]\n",
    "y = phishing[:,30:31]\n",
    "print('Class labels:', np.unique(y))\n",
    "\n",
    "\n",
    "# Splitting data into 70% training and 30% test data:\n",
    "X_train, X_test, y_train, y_test = train_test_split(X,y, test_size=0.3,\n",
    "                                                    random_state=1, stratify=y)\n",
    "y_train = np.array(y_train.ravel())\n",
    "y_test = np.array(y_test.ravel())\n"
   ]
  },
  {
   "cell_type": "markdown",
   "metadata": {},
   "source": [
    "### Train and Evaluate Data"
   ]
  },
  {
   "cell_type": "code",
   "execution_count": 4,
   "metadata": {},
   "outputs": [
    {
     "name": "stdout",
     "output_type": "stream",
     "text": [
      "Misclassified samples: 211\n",
      "Accuracy: 0.94\n",
      "Accuracy: 0.94\n"
     ]
    }
   ],
   "source": [
    "#from sklearn.linear_model import LogisticRegression\n",
    "\n",
    "knn = KNeighborsClassifier(n_neighbors=5, p=2, metric='minkowski')\n",
    "knn.fit(X_train, y_train)\n",
    "y_pred = knn.predict(X_test)\n",
    "\n",
    "print('Misclassified samples: %d' % (y_test != y_pred).sum())\n",
    "print('Accuracy: %.2f' % accuracy_score(y_test, y_pred))\n",
    "print('Accuracy: %.2f' % knn.score(X_test, y_test))"
   ]
  },
  {
   "cell_type": "code",
   "execution_count": null,
   "metadata": {
    "collapsed": true
   },
   "outputs": [],
   "source": []
  }
 ],
 "metadata": {
  "kernelspec": {
   "display_name": "Python 3",
   "language": "python",
   "name": "python3"
  },
  "language_info": {
   "codemirror_mode": {
    "name": "ipython",
    "version": 3
   },
   "file_extension": ".py",
   "mimetype": "text/x-python",
   "name": "python",
   "nbconvert_exporter": "python",
   "pygments_lexer": "ipython3",
   "version": "3.5.2"
  }
 },
 "nbformat": 4,
 "nbformat_minor": 2
}
